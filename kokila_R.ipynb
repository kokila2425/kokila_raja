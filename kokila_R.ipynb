{
  "nbformat": 4,
  "nbformat_minor": 0,
  "metadata": {
    "colab": {
      "name": "kokila.R.ipynb",
      "provenance": [],
      "authorship_tag": "ABX9TyOtFGKqSbaXKnOjkLkqAekk",
      "include_colab_link": true
    },
    "kernelspec": {
      "name": "python3",
      "display_name": "Python 3"
    },
    "language_info": {
      "name": "python"
    }
  },
  "cells": [
    {
      "cell_type": "markdown",
      "metadata": {
        "id": "view-in-github",
        "colab_type": "text"
      },
      "source": [
        "<a href=\"https://colab.research.google.com/github/kokila2425/kokila_raja/blob/main/kokila_R.ipynb\" target=\"_parent\"><img src=\"https://colab.research.google.com/assets/colab-badge.svg\" alt=\"Open In Colab\"/></a>"
      ]
    },
    {
      "cell_type": "code",
      "metadata": {
        "id": "DFDzJmExvNsQ"
      },
      "source": [
        "[1]from keras.datasets import mnist\n",
        "\n",
        "   data = mnist.load_data()   "
      ],
      "execution_count": null,
      "outputs": []
    },
    {
      "cell_type": "code",
      "metadata": {
        "id": "JuXBUaGave6t"
      },
      "source": [
        "[1]from keras.datasets import mnist\n",
        "\n",
        "   data = mnist.load_data()   "
      ],
      "execution_count": null,
      "outputs": []
    },
    {
      "cell_type": "code",
      "metadata": {
        "id": "g6hDdxCIvkVS"
      },
      "source": [
        "[3]X_train = X_train.reshape((X_train.shape[0], 28*28)).astype('float32')\n",
        "   X_test = X_test.reshape((X_test.shape[0], 28*28)).astype('float32')\n"
      ],
      "execution_count": null,
      "outputs": []
    },
    {
      "cell_type": "code",
      "metadata": {
        "id": "5JS30nsOvwFr"
      },
      "source": [
        "[4]X_train = X_train / 255\n",
        "   X_test = X_test / 255\n"
      ],
      "execution_count": null,
      "outputs": []
    },
    {
      "cell_type": "code",
      "metadata": {
        "id": "7cBmGOlov1hD"
      },
      "source": [
        "[5]from keras.utils import np_utils\n",
        "\n",
        "   print(y_test.shape)\n",
        "\n",
        "   y_train = np_utils.to_categorical(y_train)\n",
        "   y_test = np_utils.to_categorical(y_test)\n",
        "\n",
        "   num_classes = y_test.shape[1] \n",
        "   print(y_test.shape) "
      ],
      "execution_count": null,
      "outputs": []
    },
    {
      "cell_type": "code",
      "metadata": {
        "id": "3zLGc4qfv4dO"
      },
      "source": [
        "[6]from keras.models import Sequential \n",
        "   from keras.layers import Dense \n"
      ],
      "execution_count": null,
      "outputs": []
    },
    {
      "cell_type": "code",
      "metadata": {
        "id": "9hdlDLsVv_iz"
      },
      "source": [
        "[7]model = Sequential() \n",
        "   model.add(Dense(32, input_dim = 28*28, activation='relu')) \n",
        "   model.add(Dense(64, activation='relu')) \n",
        "   model.add(Dense(10, activation='softmax'))  \n"
      ],
      "execution_count": null,
      "outputs": []
    },
    {
      "cell_type": "code",
      "metadata": {
        "id": "wps758QvwFZ_"
      },
      "source": [
        "[8]model.compile(loss='categorical_crossentropy', optimizer='adam', metrics=['accuracy']) \n"
      ],
      "execution_count": null,
      "outputs": []
    },
    {
      "cell_type": "code",
      "metadata": {
        "id": "5U6sqG1iwKD6"
      },
      "source": [
        "[9]model.summary() \n"
      ],
      "execution_count": null,
      "outputs": []
    },
    {
      "cell_type": "code",
      "metadata": {
        "id": "hRuyz6o4wSrB"
      },
      "source": [
        "[10]model.fit(X_train, y_train, epochs=10, batch_size=100)"
      ],
      "execution_count": null,
      "outputs": []
    },
    {
      "cell_type": "code",
      "metadata": {
        "id": "nuc2Ozm0wPTz"
      },
      "source": [
        "[10]model.fit(X_train, y_train, epochs=10, batch_size=100)"
      ],
      "execution_count": null,
      "outputs": []
    }
  ]
}